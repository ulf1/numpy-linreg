{
 "cells": [
  {
   "cell_type": "markdown",
   "metadata": {},
   "source": [
    "# Load Packages"
   ]
  },
  {
   "cell_type": "code",
   "execution_count": 1,
   "metadata": {
    "ExecuteTime": {
     "end_time": "2018-09-18T08:12:38.232692Z",
     "start_time": "2018-09-18T08:12:38.223700Z"
    }
   },
   "outputs": [],
   "source": [
    "import sys\n",
    "sys.path.append('..')"
   ]
  },
  {
   "cell_type": "code",
   "execution_count": 2,
   "metadata": {
    "ExecuteTime": {
     "end_time": "2018-09-18T08:12:38.249524Z",
     "start_time": "2018-09-18T08:12:38.237886Z"
    }
   },
   "outputs": [],
   "source": [
    "import numpy_linreg.ols as ols\n",
    "import numpy_linreg.ridge as ridge\n",
    "\n",
    "import numpy as np\n",
    "#import warnings; warnings.filterwarnings('ignore')\n",
    "import time\n",
    "import sklearn.datasets"
   ]
  },
  {
   "cell_type": "markdown",
   "metadata": {},
   "source": [
    "# Load toy dataset"
   ]
  },
  {
   "cell_type": "code",
   "execution_count": 3,
   "metadata": {},
   "outputs": [],
   "source": [
    "tmp = sklearn.datasets.load_boston()\n",
    "n_obs = len(tmp.target);\n",
    "\n",
    "y = tmp.target\n",
    "X = np.c_[ np.ones(shape=(n_obs, 1)), tmp.data[:,[5,12]] ]"
   ]
  },
  {
   "cell_type": "code",
   "execution_count": 4,
   "metadata": {},
   "outputs": [
    {
     "name": "stdout",
     "output_type": "stream",
     "text": [
      "(506,) (506, 3)\n"
     ]
    }
   ],
   "source": [
    "print(y.shape, X.shape)\n",
    "del tmp"
   ]
  },
  {
   "cell_type": "markdown",
   "metadata": {},
   "source": [
    "# Benchmark Execution Time"
   ]
  },
  {
   "cell_type": "code",
   "execution_count": 5,
   "metadata": {},
   "outputs": [],
   "source": [
    "funcnames = [ols.lu, ols.pinv, ols.qr, ols.svd, ridge.lu]"
   ]
  },
  {
   "cell_type": "code",
   "execution_count": 6,
   "metadata": {},
   "outputs": [
    {
     "name": "stdout",
     "output_type": "stream",
     "text": [
      "Clock  CPU    beta function name\n",
      "0.0115 0.0016 [-1.35827281  5.09478798 -0.64235833] numpy_linreg.ols.lu\n",
      "0.0009 0.0009 [-1.35827281  5.09478798 -0.64235833] numpy_linreg.ols.pinv\n",
      "0.0021 0.0012 [-1.35827281  5.09478798 -0.64235833] numpy_linreg.ols.qr\n",
      "0.0003 0.0006 [-1.35827281  5.09478798 -0.64235833] numpy_linreg.ols.svd\n",
      "3.0275 3.2338 [-1.35155002  5.0938495  -0.6424214 ] numpy_linreg.ridge.lu\n"
     ]
    }
   ],
   "source": [
    "# Compile: Run it the first time\n",
    "print('{0:6s} {1:6s} {2:s} {3:s}'.format('Clock', 'CPU', 'beta', 'function name'))\n",
    "for func in funcnames:\n",
    "    sh, sc = time.perf_counter(), time.process_time();\n",
    "    beta = func(y,X); \n",
    "    #if beta is None: print('error solving')\n",
    "    #beta = None;\n",
    "    eh, ec = time.perf_counter(), time.process_time()\n",
    "    print('{0:.4f} {1:.4f} {2:s} {3:s}'.format(eh-sh, ec-sc, np.array_str(beta), func.__module__ + \".\" + func.__name__))"
   ]
  },
  {
   "cell_type": "code",
   "execution_count": 7,
   "metadata": {},
   "outputs": [
    {
     "name": "stdout",
     "output_type": "stream",
     "text": [
      "Clock  CPU    function name\n",
      "1.5057 1.4795 numpy_linreg.ols.lu\n",
      "5.0333 4.9944 numpy_linreg.ols.pinv\n",
      "10.7243 14.8205 numpy_linreg.ols.qr\n",
      "5.1926 4.8527 numpy_linreg.ols.svd\n",
      "0.6465 0.6289 numpy_linreg.ridge.lu\n"
     ]
    }
   ],
   "source": [
    "n_trials = 50000\n",
    "print('{0:6s} {1:6s} {2:s}'.format('Clock', 'CPU', 'function name'))\n",
    "for func in funcnames:\n",
    "    sh, sc = time.perf_counter(), time.process_time();\n",
    "    for i in range(n_trials):\n",
    "        beta = func(y,X); \n",
    "        #if beta is None: print('error solving')\n",
    "        #beta = None;\n",
    "    eh, ec = time.perf_counter(), time.process_time()\n",
    "    print('{0:.4f} {1:.4f} {2:s}'.format(eh-sh, ec-sc, func.__module__ + \".\" + func.__name__))"
   ]
  }
 ],
 "metadata": {
  "kernelspec": {
   "display_name": "Python 3",
   "language": "python",
   "name": "python3"
  },
  "language_info": {
   "codemirror_mode": {
    "name": "ipython",
    "version": 3
   },
   "file_extension": ".py",
   "mimetype": "text/x-python",
   "name": "python",
   "nbconvert_exporter": "python",
   "pygments_lexer": "ipython3",
   "version": "3.6.3"
  },
  "toc": {
   "base_numbering": 1,
   "nav_menu": {},
   "number_sections": true,
   "sideBar": true,
   "skip_h1_title": false,
   "title_cell": "Table of Contents",
   "title_sidebar": "Contents",
   "toc_cell": false,
   "toc_position": {},
   "toc_section_display": true,
   "toc_window_display": false
  },
  "varInspector": {
   "cols": {
    "lenName": 16,
    "lenType": 16,
    "lenVar": 40
   },
   "kernels_config": {
    "python": {
     "delete_cmd_postfix": "",
     "delete_cmd_prefix": "del ",
     "library": "var_list.py",
     "varRefreshCmd": "print(var_dic_list())"
    },
    "r": {
     "delete_cmd_postfix": ") ",
     "delete_cmd_prefix": "rm(",
     "library": "var_list.r",
     "varRefreshCmd": "cat(var_dic_list()) "
    }
   },
   "types_to_exclude": [
    "module",
    "function",
    "builtin_function_or_method",
    "instance",
    "_Feature"
   ],
   "window_display": false
  }
 },
 "nbformat": 4,
 "nbformat_minor": 4
}
