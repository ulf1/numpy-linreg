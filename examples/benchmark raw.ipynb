{
 "cells": [
  {
   "cell_type": "markdown",
   "metadata": {},
   "source": [
    "# Load Packages"
   ]
  },
  {
   "cell_type": "code",
   "execution_count": 1,
   "metadata": {
    "ExecuteTime": {
     "end_time": "2018-09-18T08:12:38.249524Z",
     "start_time": "2018-09-18T08:12:38.237886Z"
    }
   },
   "outputs": [],
   "source": [
    "import numpy as np\n",
    "import warnings; warnings.filterwarnings('ignore')\n",
    "import time\n",
    "import sklearn.datasets\n",
    "import numba\n",
    "import scipy.linalg\n",
    "import statsmodels.api"
   ]
  },
  {
   "cell_type": "markdown",
   "metadata": {},
   "source": [
    "# Load toy dataset"
   ]
  },
  {
   "cell_type": "code",
   "execution_count": 2,
   "metadata": {},
   "outputs": [],
   "source": [
    "tmp = sklearn.datasets.load_boston()\n",
    "n_obs = len(tmp.target);\n",
    "\n",
    "y = tmp.target\n",
    "X = np.c_[ np.ones(shape=(n_obs, 1)), tmp.data[:,[5,12]] ]\n",
    "#X = np.r_[ np.ones(shape=(1, n_obs)), tmp.data[:,[5,12]].T ]"
   ]
  },
  {
   "cell_type": "code",
   "execution_count": 3,
   "metadata": {},
   "outputs": [
    {
     "name": "stdout",
     "output_type": "stream",
     "text": [
      "(506,) (506, 3)\n"
     ]
    }
   ],
   "source": [
    "print(y.shape, X.shape)\n",
    "del tmp"
   ]
  },
  {
   "cell_type": "markdown",
   "metadata": {},
   "source": [
    "# Specify Linear Regression Solvers"
   ]
  },
  {
   "cell_type": "code",
   "execution_count": 4,
   "metadata": {},
   "outputs": [],
   "source": [
    "fastmath = False\n",
    "parallel = False"
   ]
  },
  {
   "cell_type": "code",
   "execution_count": 5,
   "metadata": {},
   "outputs": [],
   "source": [
    "# LU decomposition\n",
    "def fun1_numpy(y, X):\n",
    "    return np.linalg.solve(np.dot(X.T, X), np.dot(X.T, y))\n",
    "\n",
    "@numba.jit(nopython=True, fastmath=fastmath, parallel=parallel)\n",
    "def fun1_jit(y, X):\n",
    "    return np.linalg.solve(np.dot(X.T, X), np.dot(X.T, y))\n",
    "\n",
    "# no numba\n",
    "def fun1_scipy(y, X):  # calls LAPACK twice\n",
    "    return scipy.linalg.lu_solve(scipy.linalg.lu_factor(np.dot(X.T,X)), np.dot(X.T,y))\n",
    "\n",
    "@numba.jit(nopython=True, fastmath=fastmath, parallel=parallel)\n",
    "def fun1_inv(y, X):  # linalg.inv is a wrapper for linalg.solve\n",
    "    return np.dot(np.linalg.inv(np.dot(X.T, X)), np.dot(X.T,y)) "
   ]
  },
  {
   "cell_type": "code",
   "execution_count": 6,
   "metadata": {},
   "outputs": [],
   "source": [
    "# Pseudo-Inverse\n",
    "def fun2_numpy(y, X, rcond=1e-15):\n",
    "    return np.dot(np.linalg.pinv(np.dot(X.T, X), rcond=rcond), np.dot(X.T, y))\n",
    "\n",
    "@numba.jit(nopython=True, fastmath=fastmath, parallel=parallel)\n",
    "def fun2_jit(y, X, rcond=1e-15):\n",
    "    return np.dot(np.linalg.pinv(np.dot(X.T, X), rcond=rcond), np.dot(X.T, y))\n",
    "\n",
    "# no numba\n",
    "def fun2_statsmodels(y, X, rcond=1e-15):\n",
    "    return statsmodels.api.OLS(y,X).fit(method='pinv').params"
   ]
  },
  {
   "cell_type": "code",
   "execution_count": 7,
   "metadata": {},
   "outputs": [],
   "source": [
    "# QR Factoring\n",
    "def fun3_numpy(y, X):\n",
    "    q, r = np.linalg.qr(np.dot(X.T, X))\n",
    "    return np.dot(np.dot(np.linalg.inv(r), q.T), np.dot(X.T, y))\n",
    "\n",
    "@numba.jit(nopython=True, fastmath=fastmath, parallel=parallel)\n",
    "def fun3_jit(y, X):\n",
    "    q, r = np.linalg.qr(np.dot(X.T, X))\n",
    "    return np.dot(np.dot(np.linalg.inv(r), q.T), np.dot(X.T, y))\n",
    "\n",
    "# no numba\n",
    "def fun3_statsmodels(y, X, rcond=1e-15):\n",
    "    return statsmodels.api.OLS(y,X).fit(method='qr').params"
   ]
  },
  {
   "cell_type": "code",
   "execution_count": 8,
   "metadata": {},
   "outputs": [],
   "source": [
    "# SVD\n",
    "def fun4_numpy(y, X, rcond=1e-15):\n",
    "    beta, _, _, singu = np.linalg.lstsq(b=y, a=X, rcond=rcond)\n",
    "    return beta\n",
    "\n",
    "@numba.jit(nopython=True, fastmath=fastmath, parallel=parallel)\n",
    "def fun4_jit(y, X, rcond=1e-15):\n",
    "    beta, _, _, singu = np.linalg.lstsq(b=y, a=X, rcond=rcond)\n",
    "    return beta\n",
    "\n",
    "@numba.jit(nopython=True, fastmath=fastmath, parallel=parallel)\n",
    "def fun4_svd(y, X, rcond=1e-15):\n",
    "    u, s, v = np.linalg.svd(np.dot(X.T, X))\n",
    "    diagtmp = np.eye(len(s)) * np.array([1.0/sigma  if sigma > rcond else 0.0 for sigma in s])\n",
    "    return np.dot(np.dot(v, np.dot(diagtmp, u.T)), np.dot(X.T, y))"
   ]
  },
  {
   "cell_type": "code",
   "execution_count": 9,
   "metadata": {},
   "outputs": [],
   "source": [
    "# Ridge Regression LU\n",
    "# LU decomposition\n",
    "def fun5_numpy(y, X, lam=0.01):\n",
    "    n_vars = X.shape[1]\n",
    "    P = np.dot(X.T, X) + lam * np.eye(n_vars)\n",
    "    return np.linalg.solve(P, np.dot(X.T, y))\n",
    "\n",
    "@numba.jit(nopython=True, fastmath=fastmath, parallel=parallel)\n",
    "def fun5_jit(y, X, lam=0.01):\n",
    "    n_vars = X.shape[1]\n",
    "    P = np.dot(X.T, X) + lam * np.eye(n_vars)\n",
    "    return np.linalg.solve(P, np.dot(X.T, y))"
   ]
  },
  {
   "cell_type": "markdown",
   "metadata": {},
   "source": [
    "# Benchmark Execution Time"
   ]
  },
  {
   "cell_type": "code",
   "execution_count": 10,
   "metadata": {},
   "outputs": [],
   "source": [
    "funcnames = [\n",
    "    fun1_numpy, fun1_jit, fun1_scipy, fun1_inv,\n",
    "    fun2_numpy, fun2_jit, fun2_statsmodels,\n",
    "    fun3_numpy, fun3_jit, fun3_statsmodels,\n",
    "    fun4_numpy, fun4_jit, fun4_svd,\n",
    "    fun5_numpy, fun5_jit]"
   ]
  },
  {
   "cell_type": "code",
   "execution_count": 11,
   "metadata": {},
   "outputs": [
    {
     "name": "stdout",
     "output_type": "stream",
     "text": [
      "Clock  CPU    function name\n",
      "0.0003 0.0002 fun1_numpy\n",
      "3.1646 2.7542 fun1_jit\n",
      "0.0003 0.0004 fun1_scipy\n",
      "0.5261 0.5122 fun1_inv\n",
      "0.0005 0.0005 fun2_numpy\n",
      "1.9254 1.8746 fun2_jit\n",
      "0.0022 0.0016 fun2_statsmodels\n",
      "0.0007 0.0010 fun3_numpy\n",
      "1.5679 1.7466 fun3_jit\n",
      "0.0022 0.0029 fun3_statsmodels\n",
      "0.0002 0.0003 fun4_numpy\n",
      "1.7580 1.9745 fun4_jit\n",
      "1.2588 1.2480 fun4_svd\n",
      "0.0004 0.0005 fun5_numpy\n",
      "0.7740 0.7531 fun5_jit\n"
     ]
    }
   ],
   "source": [
    "# Compile: Run it the first time\n",
    "print('{0:6s} {1:6s} {2:s}'.format('Clock', 'CPU', 'function name'))\n",
    "for func in funcnames:\n",
    "    sh, sc = time.perf_counter(), time.process_time();\n",
    "    beta = func(y,X); \n",
    "    #if beta is None: print('error solving')\n",
    "    #beta = None;\n",
    "    eh, ec = time.perf_counter(), time.process_time()\n",
    "    print('{0:.4f} {1:.4f} {2:s}'.format(eh-sh, ec-sc, func.__name__))"
   ]
  },
  {
   "cell_type": "code",
   "execution_count": 12,
   "metadata": {},
   "outputs": [
    {
     "name": "stdout",
     "output_type": "stream",
     "text": [
      "Clock   CPU     function name\n",
      " 1.6148  1.5480 fun1_numpy\n",
      " 0.5349  0.5340 fun1_jit\n",
      " 2.0732  2.0601 fun1_scipy\n",
      " 0.7307  0.6387 fun1_inv\n",
      " 5.2237  5.0372 fun2_numpy\n",
      " 1.1127  1.0667 fun2_jit\n",
      "28.0941 24.9214 fun2_statsmodels\n",
      " 6.6487 13.0842 fun3_numpy\n",
      " 1.2035  1.1715 fun3_jit\n",
      "34.3556 59.3803 fun3_statsmodels\n",
      " 3.6985  3.8746 fun4_numpy\n",
      " 9.1950  8.2872 fun4_jit\n",
      " 8.1461  7.4237 fun4_svd\n",
      " 2.3727  2.2830 fun5_numpy\n",
      " 6.3682  6.0540 fun5_jit\n"
     ]
    }
   ],
   "source": [
    "n_trials = 50000\n",
    "print('{0:7s} {1:7s} {2:s}'.format('Clock', 'CPU', 'function name'))\n",
    "for func in funcnames:\n",
    "    sh, sc = time.perf_counter(), time.process_time();\n",
    "    for i in range(n_trials):\n",
    "        beta = func(y,X); \n",
    "        #if beta is None: print('error solving')\n",
    "        #beta = None;\n",
    "    eh, ec = time.perf_counter(), time.process_time()\n",
    "    print('{0:7.4f} {1:7.4f} {2:s}'.format(eh-sh, ec-sc, func.__name__))"
   ]
  },
  {
   "cell_type": "code",
   "execution_count": null,
   "metadata": {},
   "outputs": [],
   "source": []
  }
 ],
 "metadata": {
  "kernelspec": {
   "display_name": "Python 3",
   "language": "python",
   "name": "python3"
  },
  "language_info": {
   "codemirror_mode": {
    "name": "ipython",
    "version": 3
   },
   "file_extension": ".py",
   "mimetype": "text/x-python",
   "name": "python",
   "nbconvert_exporter": "python",
   "pygments_lexer": "ipython3",
   "version": "3.6.3"
  },
  "toc": {
   "base_numbering": 1,
   "nav_menu": {},
   "number_sections": true,
   "sideBar": true,
   "skip_h1_title": false,
   "title_cell": "Table of Contents",
   "title_sidebar": "Contents",
   "toc_cell": false,
   "toc_position": {},
   "toc_section_display": true,
   "toc_window_display": false
  },
  "varInspector": {
   "cols": {
    "lenName": 16,
    "lenType": 16,
    "lenVar": 40
   },
   "kernels_config": {
    "python": {
     "delete_cmd_postfix": "",
     "delete_cmd_prefix": "del ",
     "library": "var_list.py",
     "varRefreshCmd": "print(var_dic_list())"
    },
    "r": {
     "delete_cmd_postfix": ") ",
     "delete_cmd_prefix": "rm(",
     "library": "var_list.r",
     "varRefreshCmd": "cat(var_dic_list()) "
    }
   },
   "types_to_exclude": [
    "module",
    "function",
    "builtin_function_or_method",
    "instance",
    "_Feature"
   ],
   "window_display": false
  }
 },
 "nbformat": 4,
 "nbformat_minor": 4
}
